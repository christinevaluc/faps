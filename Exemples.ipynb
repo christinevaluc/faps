{
 "cells": [
  {
   "cell_type": "markdown",
   "metadata": {},
   "source": [
    "Écrire un algorithme qui retourne le nom des compteurs de vélos actifs contenu dans le fichier `localisation_des_compteurs_velo.csv`."
   ]
  },
  {
   "cell_type": "code",
   "execution_count": 32,
   "metadata": {},
   "outputs": [
    {
     "name": "stdout",
     "output_type": "stream",
     "text": [
      "['Eco-Display Parc Stanley', 'Pont Jacques-Cartier', 'Berri1', 'Pierre-Dupuy', 'Parc', 'Brébeuf', 'Eco-Display - Métro Laurier', 'Saint-Antoine', 'Maisonneuve_3', 'Boyer', 'University', 'Saint-Urbain', 'Saint-Laurent/Bellechasse', 'Gouin / Lajeunesse', 'Boyer 2', 'Christophe-Colomb_PisteEnSitePropre', 'Edmond Valade', 'Notre-Dame', 'Viger', 'Pont Ile Bizard', 'Pont Le Gardeur', 'Piste Des Carrières', 'Estacade', 'Notre Dame 3 (Bellerive)', 'Bennett', 'Sainte-Croix', 'Valois', 'Souligny', '16e Avenue (@Bélanger)', 'Rachel 4 (@ Pie IX)', 'Maisonneuve 4', 'Maurice-Duplessis', 'Querbes / St-Roch', 'Wellington / Charlevoix', 'Maisonneuve 5', 'Maisonneuve 1 (@Berri)']\n"
     ]
    }
   ],
   "source": [
    "import pandas as pd\n",
    "\n",
    "actif = []\n",
    "\n",
    "data = pd.read_csv('.\\donnees\\localisation_des_compteurs_velo.csv', delimiter=',', index_col=\"Nom\")\n",
    "\n",
    "statut = data[\"Statut\"]\n",
    "\n",
    "dict_stat = statut.to_dict()\n",
    "\n",
    "for cle, valeur in dict_stat.items():\n",
    "    if valeur == 'Actif':\n",
    "        actif.append(cle)\n",
    "\n",
    "print(actif)"
   ]
  },
  {
   "cell_type": "code",
   "execution_count": null,
   "metadata": {},
   "outputs": [],
   "source": []
  }
 ],
 "metadata": {
  "kernelspec": {
   "display_name": "Python 3",
   "language": "python",
   "name": "python3"
  },
  "language_info": {
   "codemirror_mode": {
    "name": "ipython",
    "version": 3
   },
   "file_extension": ".py",
   "mimetype": "text/x-python",
   "name": "python",
   "nbconvert_exporter": "python",
   "pygments_lexer": "ipython3",
   "version": "3.7.4"
  }
 },
 "nbformat": 4,
 "nbformat_minor": 2
}

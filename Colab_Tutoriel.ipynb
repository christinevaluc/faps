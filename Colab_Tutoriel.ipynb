{
 "cells": [
  {
   "cell_type": "markdown",
   "metadata": {},
   "source": [
    "# Tutoriel sur COLAB\n",
    "Tiré de https://www.tutorialspoint.com/google_colab/your_first_colab_notebook.htm"
   ]
  },
  {
   "cell_type": "markdown",
   "metadata": {},
   "source": [
    "# Accéder à Google\n",
    "Avant de commencer à utiliser Colab, assurez vous d'avoir un compte Google afin de pouvoir utiliser Google Drive ainsi que Google Colab.\n",
    "\n",
    "Allez sur https://colab.research.google.com et cliquez ensuite sur **Nouveau Notebook**.\n",
    "\n",
    "## Changer le nom du Notebook\n",
    "Par défaut, le Notebook s'intitule **UntitledXX.ipynb**. Vous pouvez renommer le titre en cliquant sur le titre:\n",
    "\n",
    "![Nom](https://www.tutorialspoint.com/google_colab/images/setting_notebook_name.jpg)\n"
   ]
  },
  {
   "cell_type": "markdown",
   "metadata": {},
   "source": [
    "## Commencer à coder\n",
    "Similairement à Jupyter Notebook, vous pouvez commencer à écrire du code Python dans la fenêtre et l'exécuter en cliquant sur le bouton ci-dessous:\n",
    "\n",
    "![Write](https://www.tutorialspoint.com/google_colab/images/executing_code.jpg)\n",
    "\n",
    "Il est possible d'enlever le output du code en cliquant sur le `X`:\n",
    "\n",
    "![Execute](https://www.tutorialspoint.com/google_colab/images/output_display.jpg)"
   ]
  },
  {
   "cell_type": "markdown",
   "metadata": {},
   "source": [
    "## Ajouter des cellules de code\n",
    "Pour ajouter plus de code dans votre Notebook, il suffit d'aller dans le `Insertion` puis `Cellule de code`. Sinon, vous pouvez déplacer votre souris en bas d'une cellule. Lorsque les choix `Code` et `Texte` apparaissent, cliquez tout simplement sur l'un des deux pour ajouter une nouvelle cellule.\n",
    "\n",
    "![Cellule](https://www.tutorialspoint.com/google_colab/images/code_text_buttons.jpg)"
   ]
  },
  {
   "cell_type": "markdown",
   "metadata": {},
   "source": [
    "## Tout exécuter\n",
    "Pour exécuter toute les cellules de votre Notebook en un seul clique sans interruption, allez sur `Exécution` et ensuite `Redémarrer et tout exécuter`.\n",
    "\n",
    "## Changer l'ordre des cellules\n",
    "Il est possible de changer l'ordre des cellules à l'aide des flèches:\n",
    "![Cell](cellorder.JPG \"CellOrder\")"
   ]
  },
  {
   "cell_type": "markdown",
   "metadata": {},
   "source": [
    "## Supprimer une cellule\n",
    "Pour supprimer une cellule, il suffit de cliquer sur la poubelle. Sinon faire clique-droit et `Supprimer la cellule`.\n",
    "\n",
    "## Markdown\n",
    "Les cellules de texte sont du format **markdown**, un language simple de balisage. Voici quelques exemples de syntaxe:\n",
    "\n",
    "![Text](https://www.tutorialspoint.com/google_colab/images/markdown_examples.jpg)\n",
    "\n",
    "## Équations mathématiques\n",
    "Pour écrire des équations mathématiques, il suffit d'ajouter les signes d'argent ($) entre les équations:"
   ]
  },
  {
   "cell_type": "code",
   "execution_count": null,
   "metadata": {},
   "outputs": [],
   "source": [
    "$\\sqrt{3x-1}+(1+x)^2$"
   ]
  },
  {
   "cell_type": "markdown",
   "metadata": {},
   "source": [
    "![Math](https://www.tutorialspoint.com/google_colab/images/mathematical_equations_text_cell.jpg)"
   ]
  },
  {
   "cell_type": "markdown",
   "metadata": {},
   "source": [
    "## Traçage de courbe\n",
    "Sur Colab, vous pouvez aussi créer des graphiques dans les cellules de code. Par exemple, si vous écrivez:"
   ]
  },
  {
   "cell_type": "code",
   "execution_count": null,
   "metadata": {},
   "outputs": [],
   "source": [
    "# import numpy as np\n",
    "from matplotlib import pyplot as plt\n",
    "\n",
    "y = np.random.randn(100)\n",
    "x = [x for x in range(len(y))]\n",
    "\n",
    "plt.plot(x, y, '-')\n",
    "plt.fill_between(x, y, 200, where = (y > 195), facecolor='g', alpha=0.6)\n",
    "\n",
    "plt.title(\"Sample Plot\")\n",
    "plt.show()"
   ]
  },
  {
   "cell_type": "markdown",
   "metadata": {},
   "source": [
    "Vous obtenez sur Colab:\n",
    "\n",
    "![Chart](https://www.tutorialspoint.com/google_colab/images/graphical_outputs.jpg)"
   ]
  },
  {
   "cell_type": "markdown",
   "metadata": {},
   "source": [
    "## Liste de fonctions\n",
    "Pour connaître la liste des fonctions d'une bibliothèque, comme `numpy`, il suffit de mettre un point après le nom de la fonction comme ceci:\n",
    "\n",
    "![Help](helpcolab.png \"Help\")\n",
    "\n",
    "## Documentation de la fonction\n",
    "Pour connaître la documentation de chaque fonction, il suffit d'écrire les parenthèses comme ceci et une fenêtre s'affichera avec la documentation:\n",
    "\n",
    "![Docu](functiondoc.png \"Docu\")"
   ]
  }
 ],
 "metadata": {
  "kernelspec": {
   "display_name": "Python (ox)",
   "language": "python",
   "name": "ox"
  },
  "language_info": {
   "codemirror_mode": {
    "name": "ipython",
    "version": 3
   },
   "file_extension": ".py",
   "mimetype": "text/x-python",
   "name": "python",
   "nbconvert_exporter": "python",
   "pygments_lexer": "ipython3",
   "version": "3.7.4"
  }
 },
 "nbformat": 4,
 "nbformat_minor": 2
}

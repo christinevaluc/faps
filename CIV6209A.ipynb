{
 "cells": [
  {
   "cell_type": "markdown",
   "metadata": {},
   "source": [
    "# TP2 : Débits et charges\n",
    "**CIV6209A** : Conception de station d'épuration des eaux usées"
   ]
  },
  {
   "cell_type": "code",
   "execution_count": 25,
   "metadata": {},
   "outputs": [
    {
     "name": "stdout",
     "output_type": "stream",
     "text": [
      "     Variable    N   N*          Mean         StDev  CoefVar    Minimum  \\\n",
      "0      Qpompé  366    0  2.484870e+05  8.945900e+04    36.00  152594.00   \n",
      "1        Qmax  298   68  3.638750e+05  1.180730e+05    32.45  208327.00   \n",
      "2        Qmin  354   12  6.514000e+03  3.755000e+03    57.64      96.00   \n",
      "3         DCO  366    0  2.461700e+02  7.124000e+01    28.94      66.00   \n",
      "4       DBO5C  226  140  7.020000e+01  2.733000e+01    38.93       8.00   \n",
      "5      MESval  366    0  1.344900e+02  4.581000e+01    34.06      20.00   \n",
      "6     MVESval  366    0  9.510000e+01  3.066000e+01    32.24      15.00   \n",
      "7         NTK   51  315  1.777200e+01  5.154000e+00    29.00       7.39   \n",
      "8         NH4  156  210  1.115300e+01  3.340000e+00    29.95       1.93   \n",
      "9          Pt  365    1  2.096800e+00  6.454000e-01    30.78       0.55   \n",
      "10      o-PO4   54  312  8.030000e-01  2.385000e-01    29.70       0.17   \n",
      "11  coli féc.   25  341  2.133616e+06  1.216899e+06    57.03  600000.00   \n",
      "\n",
      "             Q1      Median           Q3     Maximum                    Mode  \\\n",
      "0    191772.000   217600.00   266096.000   563783.00                       *   \n",
      "1    268994.000   323798.00   435572.000   655814.00                       *   \n",
      "2      4096.000     5454.00     7477.000    21450.00                       *   \n",
      "3       201.000      245.50      289.000      472.00                     272   \n",
      "4        54.000       67.00       85.000      200.00                      66   \n",
      "5       106.150      130.00      160.000      350.00                     130   \n",
      "6        76.000       94.00      113.000      243.00                      90   \n",
      "7        14.800       18.10       20.800       32.10  (15.5, 17.5, 18.7, 19)   \n",
      "8         9.408       11.70       13.375       19.40                    12.5   \n",
      "9         1.700        2.10        2.500        4.00                     2.5   \n",
      "10        0.615        0.82        0.870        1.28                     0.6   \n",
      "11  1174980.000  1833333.00  3000000.000  6000000.00                 3000000   \n",
      "\n",
      "    N for Mode  Skewness  Kurtosis        MSSD  \n",
      "0            0      1.71      2.25  1553740328  \n",
      "1            0      0.93     -0.24  5369877289  \n",
      "2            0      1.79      3.21     3378991  \n",
      "3            8      0.21      0.33     2037.49  \n",
      "4            9      0.99      3.21      364.25  \n",
      "5           36      0.73      1.66     1364.24  \n",
      "6           16      0.52      1.76      543.61  \n",
      "7            2      0.08      0.44           *  \n",
      "8            6     -0.43      0.24       3.545  \n",
      "9           23     -0.07     -0.05      0.1276  \n",
      "10           4     -0.31     -0.05      0.0544  \n",
      "11           5      1.42      2.89           *  \n"
     ]
    }
   ],
   "source": [
    "import pandas as pd\n",
    "\n",
    "v = ['Qpompé', 'Qmax', 'Qmin', 'DCO', 'DBO5C', 'MESval', 'MVESval', 'NTK', 'NH4', 'Pt', 'o-PO4', 'coli féc.']\n",
    "N = [366, 298, 354, 366, 226, 366, 366, 51, 156, 365, 54, 25]\n",
    "n = [0, 68, 12, 0, 140, 0, 0, 315, 210, 1, 312, 341]\n",
    "mean = [248487, 363875, 6514, 246.17, 70.20, 134.49, 95.10, 17.772, 11.153, 2.0968, 0.8030, 2133616]\n",
    "stdev = [89459, 118073, 3755, 71.24, 27.33, 45.81, 30.66, 5.154, 3.340, 0.6454, 0.2385, 1216899]\n",
    "coefvar = [36.00, 32.45, 57.64, 28.94, 38.93, 34.06, 32.24, 29.00, 29.95, 30.78, 29.70, 57.03]\n",
    "minimum = [152594, 208327, 96, 66.00, 8.00, 20.00, 15.00, 7.390, 1.930, 0.5500, 0.1700, 600000]\n",
    "q1 = [191772, 268994, 4096, 201.00, 54.00, 106.15, 76.00, 14.800, 9.408, 1.7000, 0.6150, 1174980]\n",
    "med = [217600, 323798, 5454, 245.50, 67.00, 130.00, 94.00, 18.100, 11.700, 2.1000, 0.8200, 1833333]\n",
    "q3 = [266096, 435572, 7477, 289.00, 85.00, 160.00, 113.00, 20.800, 13.375, 2.5000, 0.8700, 3000000]\n",
    "maximum = [563783, 655814, 21450, 472.00, 200.00, 350.00, 243.00, 32.100, 19.400, 4.0000, 1.2800, 6000000]\n",
    "mode = ['*', '*', '*', 272, 66, 130, 90, (15.5, 17.5, 18.7, 19), 12.5, 2.5, 0.6, 3000000]\n",
    "nmode = [0, 0, 0, 8, 9, 36, 16, 2, 6, 23, 4, 5]\n",
    "skew = [1.71, 0.93, 1.79, 0.21, 0.99, 0.73, 0.52, 0.08, -0.43, -0.07, -0.31, 1.42]\n",
    "kurt = [2.25, -0.24, 3.21, 0.33, 3.21, 1.66, 1.76, 0.44, 0.24, -0.05, -0.05, 2.89]\n",
    "mssd = [1553740328, 5369877289, 3378991, 2037.49, 364.25, 1364.24, 543.61, '*', 3.545, 0.1276, 0.0544, '*']\n",
    "\n",
    "df=pd.DataFrame({'Variable':v,'N':N, 'N*':n, 'Mean':mean, 'StDev':stdev, 'CoefVar':coefvar, 'Minimum':minimum, 'Q1':q1, 'Median':med, 'Q3':q3, 'Maximum':maximum, 'Mode':mode, 'N for Mode':nmode, 'Skewness':skew, 'Kurtosis':kurt, 'MSSD':mssd})\n",
    "print(df)"
   ]
  },
  {
   "cell_type": "markdown",
   "metadata": {},
   "source": [
    "## Description du travail à faire\n",
    "* Déterminer les débits (min, moy, max) et charges pour l'année actuelle de l'étude préliminaire (an 0 = 2030 pour Repentigny), dans 10 ans et dans 30 ans pour certaines conditions\n",
    "\n",
    "Normalement, les \"5\" saisons sont associées aux débits min (hiver, été), moy(printemps) et max (fonte, automne). Dans le cadre du cours, un nombre minimal de débits devant être déterminés est fourni à titre indicatif au tableau 2.1.\n",
    "\n",
    "## A) Débits\n",
    "Les débits représentent des données de conception servant au dimensionnement des ouvrages et des équipements de traitement. Pour les principaux éléments de la filière liquide, une liste des débits requis servant à leur conception est fournie aux tableaux 2.1 et 2.2"
   ]
  },
  {
   "cell_type": "markdown",
   "metadata": {},
   "source": [
    "### Tableau 2.1 : Débits à déterminer en fonction des éléments de la filière liquide à concevoir (Québec; liste non-exhaustive)\n",
    "| Conception-ouvrages/équipements Filière liquide                                                                              | Débits requis                                                                                                                                                                                                                                                            |\n",
    "|:------------------------------------------------------------------------------------------------------------------------------|:--------------------------------------------------------------------------------------------------------------------------------------------------------------------------------------------------------------------------------------------------------------------------|\n",
    "| Cas de référence pour tous les éléments                                                                                      | Q moy journalier sur une base annuelle                                                                                                                                                                                                                                   |\n",
    "| Station de pompage des eaux brutes - Capacité minimale des pompes - Capacité maximale des pompes et dimensionnement du puits | - Q horaire minimal de buit - année 0 - Q horaire maximal - année 30                                                                                                                                                                                                     |\n",
    "| Canaux                                                                                                                       | Capacité maximale de pompage installée                                                                                                                                                                                                                                   |\n",
    "| Dimensionnement du bioréacteur (nombre et volume des bassins)                                                                | - Q moy journalier annuel – année 0 - Q nappe basse soutenu 14 jours – année 0   (température de l’eau dans les bassins à déterminer) - Q nappe haute soutenu 14 jours – année 0   (température de l’eau dans les bassins à déterminer)Q moy journalier annuel – année 0 |\n",
    "| Dimensionnement du système d'aération du bioréacteur                                                                         | Q moy soutenu 14 jours en période estivale (année 0) avec des températures maximales de l’eau dans les bassins et de l’air à l’extérieur                                                                                                                                 |\n",
    "|                                                                                                                              |                                                                                                                                                                                                                                                                          |\n",
    "| Vérification de la conception                                                                                                | Débits requis                                                                                                                                                                                                                                                            |\n",
    "| Dimensionnement du bioréacteur(nombre et volume des bassins)                                                                 | - Q moy journalier annuel – année 10 - Q nappe basse soutenu 14 jours – année 10 - Q nappe haute soutenu 14 jours – année 10                                                                                                                                             |\n",
    "| Dimensionnement du système d’aération du bioréacteur                                                                         | - Q moy soutenu 14 jours en période estivale (année 10) avec des températures maximales de l’eau dans les bassins et de l’air à l’extérieur                                                                                                                              |\n",
    "</center>"
   ]
  },
  {
   "cell_type": "markdown",
   "metadata": {},
   "source": [
    "## A1) \n",
    "À partir du chapitre 2 du Cahier des exigences environnementales de la StaRRE, présenter les débits pour chaque période décrite (ex. Qmin, Qmoy, Qmax pour ans 0, 10, 30 pour nappe basse, nappe haute et dégel-orage : 27 valeurs)"
   ]
  },
  {
   "cell_type": "markdown",
   "metadata": {},
   "source": [
    "## A2)\n",
    "À partir d'une année récente de données journalières (si possible), déterminer les valeurs de débit suivantes :\n",
    "- Débits indiqués (année 0) au tableau 2.1\n",
    "\n",
    "Poser les hypothèses requises, notamment pour les facteurs de pointe pour les périodes de temps sec suivantes :\n",
    "- en nappe basse (milieu de l'hiver, sécheresse estivale)\n",
    "- en fonte (3 sem. après fonte des neiges en temps sec; captage élevé) ou temps d'orage (24 h après la pluie pour éviter les débordements en temps sec). Noter que la StaRRE ne reçoit pas toutes les eaux de fonte ou d'orage, une partie de celles-ci étant débordées au cours d'eau récepteur.\n",
    "- en nappe haute (3 à 6 semaines après la fonte, mais avant 30 avril [pour le sud du Québec]; automne)"
   ]
  },
  {
   "cell_type": "markdown",
   "metadata": {},
   "source": [
    "## A3)\n",
    "À partir de données de population, d'occupation du territoire (superficie occupée et %résidentiel, %institutionnel, %commercial, etc.), et les valeurs unitaires types québécoises, déterminer sur une base théorique :\n",
    "- Q domestique (résidentiel, institutionnel et commercial - RIC)\n",
    "- Q industriel\n",
    "- Q eaux parasites (infiltration et captage)\n",
    "- Q pluie et déterminer les débits sous les formes indiquées au Tableau 2.1 (colonne de droite; c.f. Brière, 2012)"
   ]
  },
  {
   "cell_type": "markdown",
   "metadata": {},
   "source": [
    "## A4)\n",
    "Comparer les valeurs déterminées en A1, A2 et A3. Recommander, au besoin,\n",
    "des travaux de réhabilitation de réseaux ou de réduction de débit."
   ]
  },
  {
   "cell_type": "markdown",
   "metadata": {},
   "source": [
    "## A5)\n",
    "Pour une conception détaillée :\n",
    "- Déterminer les débits à l’année 10 qui serviront aux vérifications de la\n",
    "conception\n",
    "\n",
    "Compléter avec les débits présentés au Tableau 2.6. Ceux-ci complètent les débits indiqués au Tableau 2.1"
   ]
  },
  {
   "cell_type": "code",
   "execution_count": null,
   "metadata": {},
   "outputs": [],
   "source": []
  }
 ],
 "metadata": {
  "kernelspec": {
   "display_name": "Python 3",
   "language": "python",
   "name": "python3"
  },
  "language_info": {
   "codemirror_mode": {
    "name": "ipython",
    "version": 3
   },
   "file_extension": ".py",
   "mimetype": "text/x-python",
   "name": "python",
   "nbconvert_exporter": "python",
   "pygments_lexer": "ipython3",
   "version": "3.7.4"
  }
 },
 "nbformat": 4,
 "nbformat_minor": 2
}

{
 "cells": [
  {
   "cell_type": "markdown",
   "metadata": {},
   "source": [
    "# TP2 : Débits et charges\n",
    "**CIV6209A** : Conception de station d'épuration des eaux usées"
   ]
  },
  {
   "cell_type": "markdown",
   "metadata": {},
   "source": [
    "## Description du travail à faire\n",
    "* Déterminer les débits (min, moy, max) et charges pour l'année actuelle de l'étude préliminaire (an 0 = 2030 pour Repentigny), dans 10 ans et dans 30 ans pour certaines conditions\n",
    "\n",
    "Normalement, les \"5\" saisons sont associées aux débits min (hiver, été), moy(printemps) et max (fonte, automne). Dans le cadre du cours, un nombre minimal de débits devant être déterminés est fourni à titre indicatif au tableau 2.1.\n",
    "\n",
    "## A) Débits\n",
    "Les débits représentent des données de conception servant au dimensionnement des ouvrages et des équipements de traitement. Pour les principaux éléments de la filière liquide, une liste des débits requis servant à leur conception est fournie aux tableaux 2.1 et 2.2"
   ]
  },
  {
   "cell_type": "markdown",
   "metadata": {},
   "source": [
    "### Tableau 2.1 : Débits à déterminer en fonction des éléments de la filière liquide à concevoir (Québec; liste non-exhaustive)\n",
    "| Conception-ouvrages/équipements Filière liquide                                                                              | Débits requis                                                                                                                                                                                                                                                            |\n",
    "|:------------------------------------------------------------------------------------------------------------------------------|:--------------------------------------------------------------------------------------------------------------------------------------------------------------------------------------------------------------------------------------------------------------------------|\n",
    "| Cas de référence pour tous les éléments                                                                                      | Q moy journalier sur une base annuelle                                                                                                                                                                                                                                   |\n",
    "| Station de pompage des eaux brutes - Capacité minimale des pompes - Capacité maximale des pompes et dimensionnement du puits | - Q horaire minimal de buit - année 0 - Q horaire maximal - année 30                                                                                                                                                                                                     |\n",
    "| Canaux                                                                                                                       | Capacité maximale de pompage installée                                                                                                                                                                                                                                   |\n",
    "| Dimensionnement du bioréacteur (nombre et volume des bassins)                                                                | - Q moy journalier annuel – année 0 - Q nappe basse soutenu 14 jours – année 0   (température de l’eau dans les bassins à déterminer) - Q nappe haute soutenu 14 jours – année 0   (température de l’eau dans les bassins à déterminer)Q moy journalier annuel – année 0 |\n",
    "| Dimensionnement du système d'aération du bioréacteur                                                                         | Q moy soutenu 14 jours en période estivale (année 0) avec des températures maximales de l’eau dans les bassins et de l’air à l’extérieur                                                                                                                                 |\n",
    "|                                                                                                                              |                                                                                                                                                                                                                                                                          |\n",
    "| Vérification de la conception                                                                                                | Débits requis                                                                                                                                                                                                                                                            |\n",
    "| Dimensionnement du bioréacteur(nombre et volume des bassins)                                                                 | - Q moy journalier annuel – année 10 - Q nappe basse soutenu 14 jours – année 10 - Q nappe haute soutenu 14 jours – année 10                                                                                                                                             |\n",
    "| Dimensionnement du système d’aération du bioréacteur                                                                         | - Q moy soutenu 14 jours en période estivale (année 10) avec des températures maximales de l’eau dans les bassins et de l’air à l’extérieur                                                                                                                              |\n",
    "</center>"
   ]
  },
  {
   "cell_type": "markdown",
   "metadata": {},
   "source": [
    "## A1) \n",
    "À partir du chapitre 2 du Cahier des exigences environnementales de la StaRRE, présenter les débits pour chaque période décrite (ex. Qmin, Qmoy, Qmax pour ans 0, 10, 30 pour nappe basse, nappe haute et dégel-orage : 27 valeurs)"
   ]
  },
  {
   "cell_type": "code",
   "execution_count": null,
   "metadata": {},
   "outputs": [],
   "source": []
  },
  {
   "cell_type": "markdown",
   "metadata": {},
   "source": [
    "## A2)\n",
    "À partir d'une année récente de données journalières (si possible), déterminer les valeurs de débit suivantes :\n",
    "- Débits indiqués (année 0) au tableau 2.1\n",
    "\n",
    "Poser les hypothèses requises, notamment pour les facteurs de pointe pour les périodes de temps sec suivantes :\n",
    "- en nappe basse (milieu de l'hiver, sécheresse estivale)\n",
    "- en fonte (3 sem. après fonte des neiges en temps sec; captage élevé) ou temps d'orage (24 h après la pluie pour éviter les débordements en temps sec). Noter que la StaRRE ne reçoit pas toutes les eaux de fonte ou d'orage, une partie de celles-ci étant débordées au cours d'eau récepteur.\n",
    "- en nappe haute (3 à 6 semaines après la fonte, mais avant 30 avril [pour le sud du Québec]; automne)"
   ]
  },
  {
   "cell_type": "markdown",
   "metadata": {},
   "source": [
    "## A3)\n",
    "À partir de données de population, d'occupation du territoire (superficie occupée et %résidentiel, %institutionnel, %commercial, etc.), et les valeurs unitaires types québécoises, déterminer sur une base théorique :\n",
    "- Q domestique (résidentiel, institutionnel et commercial - RIC)\n",
    "- Q industriel\n",
    "- Q eaux parasites (infiltration et captage)\n",
    "- Q pluie et déterminer les débits sous les formes indiquées au Tableau 2.1 (colonne de droite; c.f. Brière, 2012)"
   ]
  },
  {
   "cell_type": "markdown",
   "metadata": {},
   "source": [
    "## A4)\n",
    "Comparer les valeurs déterminées en A1, A2 et A3. Recommander, au besoin,\n",
    "des travaux de réhabilitation de réseaux ou de réduction de débit."
   ]
  },
  {
   "cell_type": "markdown",
   "metadata": {},
   "source": [
    "## A5)\n",
    "Pour une conception détaillée :\n",
    "- Déterminer les débits à l’année 10 qui serviront aux vérifications de la\n",
    "conception\n",
    "\n",
    "Compléter avec les débits présentés au Tableau 2.6. Ceux-ci complètent les débits indiqués au Tableau 2.1"
   ]
  },
  {
   "cell_type": "code",
   "execution_count": null,
   "metadata": {},
   "outputs": [],
   "source": []
  }
 ],
 "metadata": {
  "kernelspec": {
   "display_name": "Python 3",
   "language": "python",
   "name": "python3"
  },
  "language_info": {
   "codemirror_mode": {
    "name": "ipython",
    "version": 3
   },
   "file_extension": ".py",
   "mimetype": "text/x-python",
   "name": "python",
   "nbconvert_exporter": "python",
   "pygments_lexer": "ipython3",
   "version": "3.7.4"
  }
 },
 "nbformat": 4,
 "nbformat_minor": 2
}

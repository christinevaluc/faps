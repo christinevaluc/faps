{
 "cells": [
  {
   "cell_type": "markdown",
   "metadata": {},
   "source": [
    "# Tutoriel de démarrage\n",
    "\n",
    "## Qu'est-ce que Conda?\n",
    "Conda est un système de gestion de paquets et un système de gestion d'environnement \"open source\" qui fonctionne sur Windows, macOS et Linux. Conda installe, exécute et met à jour rapidement les paquets et leurs composantes. Conda crée, enregistre, charge et bascule facilement les environnements sur votre ordinateur local. Il a été créé pour les programmes tel que Python, mais il peut aussi empaqueter et distribuer des logiciels pour n'importe quelle langue.\n",
    "\n",
    "![Anaconda](https://miro.medium.com/max/1600/1*_ozdDAB9qda1VuNGmw3CDA.png)\n",
    "\n",
    "## Installer Anaconda\n",
    "\n",
    "Télécharger selon votre système d'opération : https://www.anaconda.com/products/individual\n",
    "\n",
    "**Windows**\n",
    "1. Double-cliquer le document .exe\n",
    "\n",
    "2. Suivre les instructions à l'écran.\n",
    "\n",
    "3. Accepter les options par défaut.\n",
    "\n",
    "**MacOS**\n",
    "1. Double-cliquer le document .pkg\n",
    "2. Suivre les instructions à l'écran.\n"
   ]
  },
  {
   "cell_type": "markdown",
   "metadata": {},
   "source": [
    "## Qu'est-ce que Colaboratory ?\n",
    "\n",
    "Colaboratory, souvent raccourci en \"Colab\", permet d'écrire et d'exécuter du code Python dans votre navigateur, avec \n",
    "- Aucune configuration requise\n",
    "- Accès gratuit aux GPU\n",
    "- Partage facile\n",
    "\n",
    "Pour y accéder, aller sur https://colab.research.google.com/ à l'aide d'un compte Google. Ensuite, créer un notebook."
   ]
  },
  {
   "cell_type": "markdown",
   "metadata": {},
   "source": [
    "![Test](colab.JPG \"Colab\")"
   ]
  },
  {
   "cell_type": "markdown",
   "metadata": {},
   "source": [
    "Comme avec Jupyter Notebook, il est possible d'écrire du code Python dans un fichier .pynb sur Colab. "
   ]
  },
  {
   "cell_type": "code",
   "execution_count": null,
   "metadata": {},
   "outputs": [],
   "source": []
  }
 ],
 "metadata": {
  "kernelspec": {
   "display_name": "Python (ox)",
   "language": "python",
   "name": "ox"
  },
  "language_info": {
   "codemirror_mode": {
    "name": "ipython",
    "version": 3
   },
   "file_extension": ".py",
   "mimetype": "text/x-python",
   "name": "python",
   "nbconvert_exporter": "python",
   "pygments_lexer": "ipython3",
   "version": "3.7.4"
  }
 },
 "nbformat": 4,
 "nbformat_minor": 2
}

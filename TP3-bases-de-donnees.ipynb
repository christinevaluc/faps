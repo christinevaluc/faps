{
 "cells": [
  {
   "cell_type": "markdown",
   "metadata": {},
   "source": [
    "# TP3: Bases de données, analyse et fouille\n",
    "\n",
    "Ce troisième travail pratique vise à vous faire manipuler, explorer et interpréter des ensembles de données en transports. Vous êtes libres d’utiliser différents outils tels que\n",
    "* des systèmes de gestion de base de données relationnel (SGBDR comme SQLite, PostgreSQL, Microsoft Access, etc.) ;\n",
    "* des langages de programmation pour manipuler les données et les visualiser (Matlab, Python, R, etc.) ;\n",
    "* des outils économétriques (Gretl, Tanagra, R, Python/StatsModels) ;\n",
    "* des outils de fouille de données (Tanagra,Weka).\n",
    "\n",
    "## 1. Jeu de données\n",
    "Les données utilisées sont les temps de parcours collectés par la Ville de Montréal à l’aide de capteurs Bluetooth disponible sur le portail des données ouvertes. Les données sont collectées pour des paires origine-destination pré-définies, décrites dans le fichier des segments routiers de collecte des temps de parcours. Les données de temps de parcours disponibles couvrent la période du 1er janvier 2016 au 28 février 2017. Les attributs des deux fichiers de données sont décrits sur leurs pages respectives."
   ]
  },
  {
   "cell_type": "code",
   "execution_count": 2,
   "metadata": {},
   "outputs": [],
   "source": [
    "import pandas as pd\n",
    "import numpy as np"
   ]
  },
  {
   "cell_type": "code",
   "execution_count": null,
   "metadata": {},
   "outputs": [],
   "source": [
    "seg_routier = pd.read_csv('./donnees/bornes.csv', sep=',', index_col = 0)\n",
    "trips16 = pd.read_csv('./donnees/trips2016.csv', sep=',', index_col = 0)"
   ]
  },
  {
   "cell_type": "markdown",
   "metadata": {},
   "source": [
    "## 2. Mandats\n",
    "### 2.1 Modèle de données\n",
    "Après analyse des fichiers des segments routiers et des temps de parcours, proposer un modèle de données relationnel pour ces données respectant les trois formes normales (retirer les données redondantes). Indiquer les clefs primaires, externes et les types de données des attributs.\n",
    "\n",
    "Il n’est pas obligé d’utiliser ce modèle dans la suite des travaux."
   ]
  },
  {
   "cell_type": "code",
   "execution_count": null,
   "metadata": {},
   "outputs": [],
   "source": [
    "seg_routier"
   ]
  },
  {
   "cell_type": "code",
   "execution_count": 4,
   "metadata": {},
   "outputs": [
    {
     "data": {
      "text/html": [
       "<div>\n",
       "<style scoped>\n",
       "    .dataframe tbody tr th:only-of-type {\n",
       "        vertical-align: middle;\n",
       "    }\n",
       "\n",
       "    .dataframe tbody tr th {\n",
       "        vertical-align: top;\n",
       "    }\n",
       "\n",
       "    .dataframe thead th {\n",
       "        text-align: right;\n",
       "    }\n",
       "</style>\n",
       "<table border=\"1\" class=\"dataframe\">\n",
       "  <thead>\n",
       "    <tr style=\"text-align: right;\">\n",
       "      <th></th>\n",
       "      <th>SrcDetectorId</th>\n",
       "      <th>DestDetectorId</th>\n",
       "      <th>PathDistance_m</th>\n",
       "      <th>TripStart_dt</th>\n",
       "      <th>TripEnd_dt</th>\n",
       "      <th>Speed_kmh</th>\n",
       "      <th>TravelTime_s</th>\n",
       "    </tr>\n",
       "    <tr>\n",
       "      <th>LinkId</th>\n",
       "      <th></th>\n",
       "      <th></th>\n",
       "      <th></th>\n",
       "      <th></th>\n",
       "      <th></th>\n",
       "      <th></th>\n",
       "      <th></th>\n",
       "    </tr>\n",
       "  </thead>\n",
       "  <tbody>\n",
       "    <tr>\n",
       "      <td>LCC_35-34</td>\n",
       "      <td>35</td>\n",
       "      <td>34</td>\n",
       "      <td>448</td>\n",
       "      <td>2016-01-25 15:40:49</td>\n",
       "      <td>2016-01-25 15:41:16</td>\n",
       "      <td>59,7333333</td>\n",
       "      <td>27</td>\n",
       "    </tr>\n",
       "    <tr>\n",
       "      <td>LCC_35-34</td>\n",
       "      <td>35</td>\n",
       "      <td>34</td>\n",
       "      <td>448</td>\n",
       "      <td>2016-01-25 15:40:52</td>\n",
       "      <td>2016-01-25 15:41:19</td>\n",
       "      <td>59,7333333</td>\n",
       "      <td>27</td>\n",
       "    </tr>\n",
       "    <tr>\n",
       "      <td>LSh_05-06</td>\n",
       "      <td>5</td>\n",
       "      <td>6</td>\n",
       "      <td>403</td>\n",
       "      <td>2016-01-25 15:40:53</td>\n",
       "      <td>2016-01-25 15:41:21</td>\n",
       "      <td>51,8142857</td>\n",
       "      <td>28</td>\n",
       "    </tr>\n",
       "    <tr>\n",
       "      <td>LSh_02-01</td>\n",
       "      <td>2</td>\n",
       "      <td>1</td>\n",
       "      <td>1192</td>\n",
       "      <td>2016-01-25 15:40:19</td>\n",
       "      <td>2016-01-25 15:41:41</td>\n",
       "      <td>52,3317073</td>\n",
       "      <td>82</td>\n",
       "    </tr>\n",
       "    <tr>\n",
       "      <td>LSJ_41-39</td>\n",
       "      <td>41</td>\n",
       "      <td>39</td>\n",
       "      <td>298</td>\n",
       "      <td>2016-01-25 15:40:16</td>\n",
       "      <td>2016-01-25 15:41:45</td>\n",
       "      <td>12,0539326</td>\n",
       "      <td>89</td>\n",
       "    </tr>\n",
       "    <tr>\n",
       "      <td>...</td>\n",
       "      <td>...</td>\n",
       "      <td>...</td>\n",
       "      <td>...</td>\n",
       "      <td>...</td>\n",
       "      <td>...</td>\n",
       "      <td>...</td>\n",
       "      <td>...</td>\n",
       "    </tr>\n",
       "    <tr>\n",
       "      <td>LLo_42-41</td>\n",
       "      <td>42</td>\n",
       "      <td>41</td>\n",
       "      <td>1115</td>\n",
       "      <td>2016-01-25 20:23:10</td>\n",
       "      <td>2016-01-25 20:33:00</td>\n",
       "      <td>6,8033898</td>\n",
       "      <td>590</td>\n",
       "    </tr>\n",
       "    <tr>\n",
       "      <td>LSM_14-13</td>\n",
       "      <td>14</td>\n",
       "      <td>13</td>\n",
       "      <td>1753</td>\n",
       "      <td>2016-01-25 20:20:03</td>\n",
       "      <td>2016-01-25 20:33:03</td>\n",
       "      <td>8,0907692</td>\n",
       "      <td>780</td>\n",
       "    </tr>\n",
       "    <tr>\n",
       "      <td>LPi_01-47</td>\n",
       "      <td>1</td>\n",
       "      <td>47</td>\n",
       "      <td>2570</td>\n",
       "      <td>2016-01-25 20:29:50</td>\n",
       "      <td>2016-01-25 20:33:04</td>\n",
       "      <td>47,6907216</td>\n",
       "      <td>194</td>\n",
       "    </tr>\n",
       "    <tr>\n",
       "      <td>LSD_33-32</td>\n",
       "      <td>33</td>\n",
       "      <td>32</td>\n",
       "      <td>1480</td>\n",
       "      <td>2016-01-25 20:30:12</td>\n",
       "      <td>2016-01-25 20:33:12</td>\n",
       "      <td>29,6000000</td>\n",
       "      <td>180</td>\n",
       "    </tr>\n",
       "    <tr>\n",
       "      <td>LND_55-54</td>\n",
       "      <td>55</td>\n",
       "      <td>54</td>\n",
       "      <td>147</td>\n",
       "      <td>2016-01-25 20:33:01</td>\n",
       "      <td>2016-01-25 20:33:13</td>\n",
       "      <td>44,1000000</td>\n",
       "      <td>12</td>\n",
       "    </tr>\n",
       "  </tbody>\n",
       "</table>\n",
       "<p>25455244 rows × 7 columns</p>\n",
       "</div>"
      ],
      "text/plain": [
       "           SrcDetectorId  DestDetectorId  PathDistance_m         TripStart_dt  \\\n",
       "LinkId                                                                          \n",
       "LCC_35-34             35              34             448  2016-01-25 15:40:49   \n",
       "LCC_35-34             35              34             448  2016-01-25 15:40:52   \n",
       "LSh_05-06              5               6             403  2016-01-25 15:40:53   \n",
       "LSh_02-01              2               1            1192  2016-01-25 15:40:19   \n",
       "LSJ_41-39             41              39             298  2016-01-25 15:40:16   \n",
       "...                  ...             ...             ...                  ...   \n",
       "LLo_42-41             42              41            1115  2016-01-25 20:23:10   \n",
       "LSM_14-13             14              13            1753  2016-01-25 20:20:03   \n",
       "LPi_01-47              1              47            2570  2016-01-25 20:29:50   \n",
       "LSD_33-32             33              32            1480  2016-01-25 20:30:12   \n",
       "LND_55-54             55              54             147  2016-01-25 20:33:01   \n",
       "\n",
       "                    TripEnd_dt   Speed_kmh  TravelTime_s  \n",
       "LinkId                                                    \n",
       "LCC_35-34  2016-01-25 15:41:16  59,7333333            27  \n",
       "LCC_35-34  2016-01-25 15:41:19  59,7333333            27  \n",
       "LSh_05-06  2016-01-25 15:41:21  51,8142857            28  \n",
       "LSh_02-01  2016-01-25 15:41:41  52,3317073            82  \n",
       "LSJ_41-39  2016-01-25 15:41:45  12,0539326            89  \n",
       "...                        ...         ...           ...  \n",
       "LLo_42-41  2016-01-25 20:33:00   6,8033898           590  \n",
       "LSM_14-13  2016-01-25 20:33:03   8,0907692           780  \n",
       "LPi_01-47  2016-01-25 20:33:04  47,6907216           194  \n",
       "LSD_33-32  2016-01-25 20:33:12  29,6000000           180  \n",
       "LND_55-54  2016-01-25 20:33:13  44,1000000            12  \n",
       "\n",
       "[25455244 rows x 7 columns]"
      ]
     },
     "execution_count": 4,
     "metadata": {},
     "output_type": "execute_result"
    }
   ],
   "source": [
    "trips16"
   ]
  },
  {
   "cell_type": "markdown",
   "metadata": {},
   "source": [
    "## 2.2 Analyse descriptive des temps de parcours\n",
    "Pour cette première partie, il faut sélectionner deux segments routiers à étudier (le même segment dans les deux directions de déplacement, de A à B et de B vers A) de longueur supérieure à 1500 m. Indiquer clairement les deux segments sélectionnés."
   ]
  },
  {
   "cell_type": "code",
   "execution_count": null,
   "metadata": {},
   "outputs": [],
   "source": [
    "seg_routier[seg_routier.LineDistance_m>1500]"
   ]
  },
  {
   "cell_type": "code",
   "execution_count": null,
   "metadata": {},
   "outputs": [],
   "source": [
    "#Henri-Bourrassa de Papineau a Lajeunesse\n",
    "seg_routier.iloc[2]"
   ]
  },
  {
   "cell_type": "code",
   "execution_count": null,
   "metadata": {
    "scrolled": true
   },
   "outputs": [],
   "source": [
    "#Henri-Bourrassa de Lajeunesse a Papineau\n",
    "seg_routier.iloc[3]"
   ]
  },
  {
   "cell_type": "markdown",
   "metadata": {},
   "source": [
    "### Étude de la distribution des temps de parcours\n",
    "Décrire la distribution des temps de parcours dans une direction, par des statistiques descriptives et des figures. Proposer une méthode pour filtrer les temps de parcours les plus longs si nécessaire. Une fois les données filtrées, faire un test d’adéquation à la loi\n",
    "normale (ou autre loi théorique plus adaptée).\n",
    "\n",
    "Le cas échéant, la méthode de filtrage sera appliquée à toutes les données utilisées par\n",
    "la suite."
   ]
  },
  {
   "cell_type": "code",
   "execution_count": null,
   "metadata": {},
   "outputs": [],
   "source": [
    "trips16['TravelTime_s'].describe()"
   ]
  },
  {
   "cell_type": "code",
   "execution_count": null,
   "metadata": {},
   "outputs": [],
   "source": []
  }
 ],
 "metadata": {
  "kernelspec": {
   "display_name": "Python (ox)",
   "language": "python",
   "name": "ox"
  },
  "language_info": {
   "codemirror_mode": {
    "name": "ipython",
    "version": 3
   },
   "file_extension": ".py",
   "mimetype": "text/x-python",
   "name": "python",
   "nbconvert_exporter": "python",
   "pygments_lexer": "ipython3",
   "version": "3.7.4"
  }
 },
 "nbformat": 4,
 "nbformat_minor": 2
}

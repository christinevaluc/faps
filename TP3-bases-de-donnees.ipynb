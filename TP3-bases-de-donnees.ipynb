{
 "cells": [
  {
   "cell_type": "markdown",
   "metadata": {},
   "source": [
    "# TP3: Bases de données, analyse et fouille\n",
    "\n",
    "Ce troisième travail pratique vise à vous faire manipuler, explorer et interpréter des ensembles de données en transports. Vous êtes libres d’utiliser différents outils tels que\n",
    "* des systèmes de gestion de base de données relationnel (SGBDR comme SQLite, PostgreSQL, Microsoft Access, etc.) ;\n",
    "* des langages de programmation pour manipuler les données et les visualiser (Matlab, Python, R, etc.) ;\n",
    "* des outils économétriques (Gretl, Tanagra, R, Python/StatsModels) ;\n",
    "* des outils de fouille de données (Tanagra,Weka).\n",
    "\n",
    "## 1. Jeu de données\n",
    "Les données utilisées sont les temps de parcours collectés par la Ville de Montréal à l’aide de capteurs Bluetooth disponible sur le portail des données ouvertes. Les données sont collectées pour des paires origine-destination pré-définies, décrites dans le fichier des segments routiers de collecte des temps de parcours. Les données de temps de parcours disponibles couvrent la période du 1er janvier 2016 au 28 février 2017. Les attributs des deux fichiers de données sont décrits sur leurs pages respectives."
   ]
  },
  {
   "cell_type": "code",
   "execution_count": 8,
   "metadata": {},
   "outputs": [],
   "source": [
    "import pandas as pd\n",
    "import numpy as np\n",
    "import matplotlib.pyplot as plt"
   ]
  },
  {
   "cell_type": "code",
   "execution_count": 62,
   "metadata": {},
   "outputs": [],
   "source": [
    "seg_routier = pd.read_csv('./donnees/bornes.csv', sep=',', index_col = 3)\n",
    "trips16 = pd.read_csv('./donnees/trips2016.csv', sep=',', index_col = 0)"
   ]
  },
  {
   "cell_type": "markdown",
   "metadata": {},
   "source": [
    "## 2. Mandats\n",
    "### 2.1 Modèle de données\n",
    "Après analyse des fichiers des segments routiers et des temps de parcours, proposer un modèle de données relationnel pour ces données respectant les trois formes normales (retirer les données redondantes). Indiquer les clefs primaires, externes et les types de données des attributs.\n",
    "\n",
    "Il n’est pas obligé d’utiliser ce modèle dans la suite des travaux."
   ]
  },
  {
   "cell_type": "code",
   "execution_count": 63,
   "metadata": {},
   "outputs": [
    {
     "data": {
      "text/html": [
       "<div>\n",
       "<style scoped>\n",
       "    .dataframe tbody tr th:only-of-type {\n",
       "        vertical-align: middle;\n",
       "    }\n",
       "\n",
       "    .dataframe tbody tr th {\n",
       "        vertical-align: top;\n",
       "    }\n",
       "\n",
       "    .dataframe thead th {\n",
       "        text-align: right;\n",
       "    }\n",
       "</style>\n",
       "<table border=\"1\" class=\"dataframe\">\n",
       "  <thead>\n",
       "    <tr style=\"text-align: right;\">\n",
       "      <th></th>\n",
       "      <th>IdLink</th>\n",
       "      <th>channel_name</th>\n",
       "      <th>active</th>\n",
       "      <th>SrcDetectorId</th>\n",
       "      <th>SrcLatitude</th>\n",
       "      <th>SrcLongitude</th>\n",
       "      <th>DestDetectorId</th>\n",
       "      <th>DestLatitude</th>\n",
       "      <th>DestLongitude</th>\n",
       "      <th>LinkName</th>\n",
       "      <th>RouteDirectionName</th>\n",
       "      <th>SrcChannelId</th>\n",
       "      <th>DestChannelId</th>\n",
       "      <th>LineDistance_m</th>\n",
       "      <th>last_poll_time</th>\n",
       "    </tr>\n",
       "    <tr>\n",
       "      <th>LinkID</th>\n",
       "      <th></th>\n",
       "      <th></th>\n",
       "      <th></th>\n",
       "      <th></th>\n",
       "      <th></th>\n",
       "      <th></th>\n",
       "      <th></th>\n",
       "      <th></th>\n",
       "      <th></th>\n",
       "      <th></th>\n",
       "      <th></th>\n",
       "      <th></th>\n",
       "      <th></th>\n",
       "      <th></th>\n",
       "      <th></th>\n",
       "    </tr>\n",
       "  </thead>\n",
       "  <tbody>\n",
       "    <tr>\n",
       "      <td>LCh_10-16</td>\n",
       "      <td>1</td>\n",
       "      <td>Saint-Michel-Industriel</td>\n",
       "      <td>1</td>\n",
       "      <td>10</td>\n",
       "      <td>45,5760283333333</td>\n",
       "      <td>-73,6364616666667</td>\n",
       "      <td>16</td>\n",
       "      <td>45,564785</td>\n",
       "      <td>-73,6449433333333</td>\n",
       "      <td>Charland:Saint-Michel a Papineau</td>\n",
       "      <td>O</td>\n",
       "      <td>11</td>\n",
       "      <td>17</td>\n",
       "      <td>1410</td>\n",
       "      <td>2019-07-02 18:44:59</td>\n",
       "    </tr>\n",
       "    <tr>\n",
       "      <td>LCh_16-10</td>\n",
       "      <td>2</td>\n",
       "      <td>Papineau-charland</td>\n",
       "      <td>1</td>\n",
       "      <td>16</td>\n",
       "      <td>45,564785</td>\n",
       "      <td>-73,6449433333333</td>\n",
       "      <td>10</td>\n",
       "      <td>45,5760283333333</td>\n",
       "      <td>-73,6364616666667</td>\n",
       "      <td>Charland:Papineau a Saint-Michel</td>\n",
       "      <td>N</td>\n",
       "      <td>17</td>\n",
       "      <td>11</td>\n",
       "      <td>1414</td>\n",
       "      <td>2019-07-02 18:44:58</td>\n",
       "    </tr>\n",
       "    <tr>\n",
       "      <td>LHB_15-20</td>\n",
       "      <td>3</td>\n",
       "      <td>Papineau-Henri-Bourassa</td>\n",
       "      <td>1</td>\n",
       "      <td>15</td>\n",
       "      <td>45,5702683333333</td>\n",
       "      <td>-73,6588066666667</td>\n",
       "      <td>20</td>\n",
       "      <td>45,555365</td>\n",
       "      <td>-73,6683933333333</td>\n",
       "      <td>Henri-Bourassa:Papineau a Lajeunesse</td>\n",
       "      <td>O</td>\n",
       "      <td>16</td>\n",
       "      <td>21</td>\n",
       "      <td>1818</td>\n",
       "      <td>2019-07-02 18:44:57</td>\n",
       "    </tr>\n",
       "    <tr>\n",
       "      <td>LHB_20-15</td>\n",
       "      <td>4</td>\n",
       "      <td>Henri-Bourassa-Lajeunesse</td>\n",
       "      <td>1</td>\n",
       "      <td>20</td>\n",
       "      <td>45,555365</td>\n",
       "      <td>-73,6683933333333</td>\n",
       "      <td>15</td>\n",
       "      <td>45,5702683333333</td>\n",
       "      <td>-73,6588066666667</td>\n",
       "      <td>Henri-Bourassa:Lajeunesse a Papineau</td>\n",
       "      <td>N</td>\n",
       "      <td>21</td>\n",
       "      <td>16</td>\n",
       "      <td>1818</td>\n",
       "      <td>2019-02-15 13:56:37</td>\n",
       "    </tr>\n",
       "    <tr>\n",
       "      <td>LHB_20-21</td>\n",
       "      <td>5</td>\n",
       "      <td>Henri-Bourassa-Lajeunesse</td>\n",
       "      <td>1</td>\n",
       "      <td>20</td>\n",
       "      <td>45,555365</td>\n",
       "      <td>-73,6683933333333</td>\n",
       "      <td>21</td>\n",
       "      <td>45,5349866666667</td>\n",
       "      <td>-73,6807116666667</td>\n",
       "      <td>Henri_Bourassa:Lajeunesse a Bourassa-Acadie</td>\n",
       "      <td>O</td>\n",
       "      <td>21</td>\n",
       "      <td>22</td>\n",
       "      <td>2460</td>\n",
       "      <td>2019-02-15 13:56:37</td>\n",
       "    </tr>\n",
       "  </tbody>\n",
       "</table>\n",
       "</div>"
      ],
      "text/plain": [
       "           IdLink               channel_name  active SrcDetectorId  \\\n",
       "LinkID                                                               \n",
       "LCh_10-16       1    Saint-Michel-Industriel       1            10   \n",
       "LCh_16-10       2          Papineau-charland       1            16   \n",
       "LHB_15-20       3    Papineau-Henri-Bourassa       1            15   \n",
       "LHB_20-15       4  Henri-Bourassa-Lajeunesse       1            20   \n",
       "LHB_20-21       5  Henri-Bourassa-Lajeunesse       1            20   \n",
       "\n",
       "                SrcLatitude       SrcLongitude DestDetectorId  \\\n",
       "LinkID                                                          \n",
       "LCh_10-16  45,5760283333333  -73,6364616666667             16   \n",
       "LCh_16-10         45,564785  -73,6449433333333             10   \n",
       "LHB_15-20  45,5702683333333  -73,6588066666667             20   \n",
       "LHB_20-15         45,555365  -73,6683933333333             15   \n",
       "LHB_20-21         45,555365  -73,6683933333333             21   \n",
       "\n",
       "               DestLatitude      DestLongitude  \\\n",
       "LinkID                                           \n",
       "LCh_10-16         45,564785  -73,6449433333333   \n",
       "LCh_16-10  45,5760283333333  -73,6364616666667   \n",
       "LHB_15-20         45,555365  -73,6683933333333   \n",
       "LHB_20-15  45,5702683333333  -73,6588066666667   \n",
       "LHB_20-21  45,5349866666667  -73,6807116666667   \n",
       "\n",
       "                                              LinkName RouteDirectionName  \\\n",
       "LinkID                                                                      \n",
       "LCh_10-16             Charland:Saint-Michel a Papineau                  O   \n",
       "LCh_16-10             Charland:Papineau a Saint-Michel                  N   \n",
       "LHB_15-20         Henri-Bourassa:Papineau a Lajeunesse                  O   \n",
       "LHB_20-15         Henri-Bourassa:Lajeunesse a Papineau                  N   \n",
       "LHB_20-21  Henri_Bourassa:Lajeunesse a Bourassa-Acadie                  O   \n",
       "\n",
       "           SrcChannelId  DestChannelId  LineDistance_m       last_poll_time  \n",
       "LinkID                                                                       \n",
       "LCh_10-16            11             17            1410  2019-07-02 18:44:59  \n",
       "LCh_16-10            17             11            1414  2019-07-02 18:44:58  \n",
       "LHB_15-20            16             21            1818  2019-07-02 18:44:57  \n",
       "LHB_20-15            21             16            1818  2019-02-15 13:56:37  \n",
       "LHB_20-21            21             22            2460  2019-02-15 13:56:37  "
      ]
     },
     "execution_count": 63,
     "metadata": {},
     "output_type": "execute_result"
    }
   ],
   "source": [
    "seg_routier.head()"
   ]
  },
  {
   "cell_type": "code",
   "execution_count": 61,
   "metadata": {},
   "outputs": [
    {
     "data": {
      "text/html": [
       "<div>\n",
       "<style scoped>\n",
       "    .dataframe tbody tr th:only-of-type {\n",
       "        vertical-align: middle;\n",
       "    }\n",
       "\n",
       "    .dataframe tbody tr th {\n",
       "        vertical-align: top;\n",
       "    }\n",
       "\n",
       "    .dataframe thead th {\n",
       "        text-align: right;\n",
       "    }\n",
       "</style>\n",
       "<table border=\"1\" class=\"dataframe\">\n",
       "  <thead>\n",
       "    <tr style=\"text-align: right;\">\n",
       "      <th></th>\n",
       "      <th>SrcDetectorId</th>\n",
       "      <th>DestDetectorId</th>\n",
       "      <th>PathDistance_m</th>\n",
       "      <th>TripStart_dt</th>\n",
       "      <th>TripEnd_dt</th>\n",
       "      <th>Speed_kmh</th>\n",
       "      <th>TravelTime_s</th>\n",
       "    </tr>\n",
       "    <tr>\n",
       "      <th>LinkId</th>\n",
       "      <th></th>\n",
       "      <th></th>\n",
       "      <th></th>\n",
       "      <th></th>\n",
       "      <th></th>\n",
       "      <th></th>\n",
       "      <th></th>\n",
       "    </tr>\n",
       "  </thead>\n",
       "  <tbody>\n",
       "    <tr>\n",
       "      <td>LCC_35-34</td>\n",
       "      <td>35</td>\n",
       "      <td>34</td>\n",
       "      <td>448</td>\n",
       "      <td>2016-01-25 15:40:49</td>\n",
       "      <td>2016-01-25 15:41:16</td>\n",
       "      <td>59,7333333</td>\n",
       "      <td>27</td>\n",
       "    </tr>\n",
       "    <tr>\n",
       "      <td>LCC_35-34</td>\n",
       "      <td>35</td>\n",
       "      <td>34</td>\n",
       "      <td>448</td>\n",
       "      <td>2016-01-25 15:40:52</td>\n",
       "      <td>2016-01-25 15:41:19</td>\n",
       "      <td>59,7333333</td>\n",
       "      <td>27</td>\n",
       "    </tr>\n",
       "    <tr>\n",
       "      <td>LSh_05-06</td>\n",
       "      <td>5</td>\n",
       "      <td>6</td>\n",
       "      <td>403</td>\n",
       "      <td>2016-01-25 15:40:53</td>\n",
       "      <td>2016-01-25 15:41:21</td>\n",
       "      <td>51,8142857</td>\n",
       "      <td>28</td>\n",
       "    </tr>\n",
       "    <tr>\n",
       "      <td>LSh_02-01</td>\n",
       "      <td>2</td>\n",
       "      <td>1</td>\n",
       "      <td>1192</td>\n",
       "      <td>2016-01-25 15:40:19</td>\n",
       "      <td>2016-01-25 15:41:41</td>\n",
       "      <td>52,3317073</td>\n",
       "      <td>82</td>\n",
       "    </tr>\n",
       "    <tr>\n",
       "      <td>LSJ_41-39</td>\n",
       "      <td>41</td>\n",
       "      <td>39</td>\n",
       "      <td>298</td>\n",
       "      <td>2016-01-25 15:40:16</td>\n",
       "      <td>2016-01-25 15:41:45</td>\n",
       "      <td>12,0539326</td>\n",
       "      <td>89</td>\n",
       "    </tr>\n",
       "  </tbody>\n",
       "</table>\n",
       "</div>"
      ],
      "text/plain": [
       "           SrcDetectorId  DestDetectorId  PathDistance_m         TripStart_dt  \\\n",
       "LinkId                                                                          \n",
       "LCC_35-34             35              34             448  2016-01-25 15:40:49   \n",
       "LCC_35-34             35              34             448  2016-01-25 15:40:52   \n",
       "LSh_05-06              5               6             403  2016-01-25 15:40:53   \n",
       "LSh_02-01              2               1            1192  2016-01-25 15:40:19   \n",
       "LSJ_41-39             41              39             298  2016-01-25 15:40:16   \n",
       "\n",
       "                    TripEnd_dt   Speed_kmh  TravelTime_s  \n",
       "LinkId                                                    \n",
       "LCC_35-34  2016-01-25 15:41:16  59,7333333            27  \n",
       "LCC_35-34  2016-01-25 15:41:19  59,7333333            27  \n",
       "LSh_05-06  2016-01-25 15:41:21  51,8142857            28  \n",
       "LSh_02-01  2016-01-25 15:41:41  52,3317073            82  \n",
       "LSJ_41-39  2016-01-25 15:41:45  12,0539326            89  "
      ]
     },
     "execution_count": 61,
     "metadata": {},
     "output_type": "execute_result"
    }
   ],
   "source": [
    "trips16.head()"
   ]
  },
  {
   "cell_type": "markdown",
   "metadata": {},
   "source": [
    "## 2.2 Analyse descriptive des temps de parcours\n",
    "Pour cette première partie, il faut sélectionner deux segments routiers à étudier (le même segment dans les deux directions de déplacement, de A à B et de B vers A) de longueur supérieure à 1500 m. Indiquer clairement les deux segments sélectionnés."
   ]
  },
  {
   "cell_type": "markdown",
   "metadata": {},
   "source": [
    "Analyse des segments routiers ayant une longueur supérieure à 1500 m:"
   ]
  },
  {
   "cell_type": "code",
   "execution_count": 64,
   "metadata": {},
   "outputs": [
    {
     "data": {
      "text/html": [
       "<div>\n",
       "<style scoped>\n",
       "    .dataframe tbody tr th:only-of-type {\n",
       "        vertical-align: middle;\n",
       "    }\n",
       "\n",
       "    .dataframe tbody tr th {\n",
       "        vertical-align: top;\n",
       "    }\n",
       "\n",
       "    .dataframe thead th {\n",
       "        text-align: right;\n",
       "    }\n",
       "</style>\n",
       "<table border=\"1\" class=\"dataframe\">\n",
       "  <thead>\n",
       "    <tr style=\"text-align: right;\">\n",
       "      <th></th>\n",
       "      <th>IdLink</th>\n",
       "      <th>channel_name</th>\n",
       "      <th>active</th>\n",
       "      <th>SrcDetectorId</th>\n",
       "      <th>SrcLatitude</th>\n",
       "      <th>SrcLongitude</th>\n",
       "      <th>DestDetectorId</th>\n",
       "      <th>DestLatitude</th>\n",
       "      <th>DestLongitude</th>\n",
       "      <th>LinkName</th>\n",
       "      <th>RouteDirectionName</th>\n",
       "      <th>SrcChannelId</th>\n",
       "      <th>DestChannelId</th>\n",
       "      <th>LineDistance_m</th>\n",
       "      <th>last_poll_time</th>\n",
       "    </tr>\n",
       "    <tr>\n",
       "      <th>LinkID</th>\n",
       "      <th></th>\n",
       "      <th></th>\n",
       "      <th></th>\n",
       "      <th></th>\n",
       "      <th></th>\n",
       "      <th></th>\n",
       "      <th></th>\n",
       "      <th></th>\n",
       "      <th></th>\n",
       "      <th></th>\n",
       "      <th></th>\n",
       "      <th></th>\n",
       "      <th></th>\n",
       "      <th></th>\n",
       "      <th></th>\n",
       "    </tr>\n",
       "  </thead>\n",
       "  <tbody>\n",
       "    <tr>\n",
       "      <td>LHB_15-20</td>\n",
       "      <td>3</td>\n",
       "      <td>Papineau-Henri-Bourassa</td>\n",
       "      <td>1</td>\n",
       "      <td>15</td>\n",
       "      <td>45,5702683333333</td>\n",
       "      <td>-73,6588066666667</td>\n",
       "      <td>20</td>\n",
       "      <td>45,555365</td>\n",
       "      <td>-73,6683933333333</td>\n",
       "      <td>Henri-Bourassa:Papineau a Lajeunesse</td>\n",
       "      <td>O</td>\n",
       "      <td>16</td>\n",
       "      <td>21</td>\n",
       "      <td>1818</td>\n",
       "      <td>2019-07-02 18:44:57</td>\n",
       "    </tr>\n",
       "    <tr>\n",
       "      <td>LHB_20-15</td>\n",
       "      <td>4</td>\n",
       "      <td>Henri-Bourassa-Lajeunesse</td>\n",
       "      <td>1</td>\n",
       "      <td>20</td>\n",
       "      <td>45,555365</td>\n",
       "      <td>-73,6683933333333</td>\n",
       "      <td>15</td>\n",
       "      <td>45,5702683333333</td>\n",
       "      <td>-73,6588066666667</td>\n",
       "      <td>Henri-Bourassa:Lajeunesse a Papineau</td>\n",
       "      <td>N</td>\n",
       "      <td>21</td>\n",
       "      <td>16</td>\n",
       "      <td>1818</td>\n",
       "      <td>2019-02-15 13:56:37</td>\n",
       "    </tr>\n",
       "    <tr>\n",
       "      <td>LHB_20-21</td>\n",
       "      <td>5</td>\n",
       "      <td>Henri-Bourassa-Lajeunesse</td>\n",
       "      <td>1</td>\n",
       "      <td>20</td>\n",
       "      <td>45,555365</td>\n",
       "      <td>-73,6683933333333</td>\n",
       "      <td>21</td>\n",
       "      <td>45,5349866666667</td>\n",
       "      <td>-73,6807116666667</td>\n",
       "      <td>Henri_Bourassa:Lajeunesse a Bourassa-Acadie</td>\n",
       "      <td>O</td>\n",
       "      <td>21</td>\n",
       "      <td>22</td>\n",
       "      <td>2460</td>\n",
       "      <td>2019-02-15 13:56:37</td>\n",
       "    </tr>\n",
       "    <tr>\n",
       "      <td>LHB_21-20</td>\n",
       "      <td>6</td>\n",
       "      <td>Henri-Bourassa-Acadie</td>\n",
       "      <td>1</td>\n",
       "      <td>21</td>\n",
       "      <td>45,5349866666667</td>\n",
       "      <td>-73,6807116666667</td>\n",
       "      <td>20</td>\n",
       "      <td>45,555365</td>\n",
       "      <td>-73,6683933333333</td>\n",
       "      <td>Henri_Bourassa:Acadie a Bourassa-Lajeunesse</td>\n",
       "      <td>E</td>\n",
       "      <td>22</td>\n",
       "      <td>21</td>\n",
       "      <td>2460</td>\n",
       "      <td>2019-07-02 18:45:02</td>\n",
       "    </tr>\n",
       "    <tr>\n",
       "      <td>LPa_16-17</td>\n",
       "      <td>11</td>\n",
       "      <td>Papineau-charland</td>\n",
       "      <td>1</td>\n",
       "      <td>16</td>\n",
       "      <td>45,564785</td>\n",
       "      <td>-73,6449433333333</td>\n",
       "      <td>17</td>\n",
       "      <td>45,5564283333333</td>\n",
       "      <td>-73,626345</td>\n",
       "      <td>Papineau:Charland a Barnabe-Larocque</td>\n",
       "      <td>S</td>\n",
       "      <td>17</td>\n",
       "      <td>18</td>\n",
       "      <td>1707</td>\n",
       "      <td>2019-07-02 18:44:58</td>\n",
       "    </tr>\n",
       "    <tr>\n",
       "      <td>...</td>\n",
       "      <td>...</td>\n",
       "      <td>...</td>\n",
       "      <td>...</td>\n",
       "      <td>...</td>\n",
       "      <td>...</td>\n",
       "      <td>...</td>\n",
       "      <td>...</td>\n",
       "      <td>...</td>\n",
       "      <td>...</td>\n",
       "      <td>...</td>\n",
       "      <td>...</td>\n",
       "      <td>...</td>\n",
       "      <td>...</td>\n",
       "      <td>...</td>\n",
       "      <td>...</td>\n",
       "    </tr>\n",
       "    <tr>\n",
       "      <td>LTh_1Q-1O</td>\n",
       "      <td>360</td>\n",
       "      <td>Cavendish-Poirier</td>\n",
       "      <td>1</td>\n",
       "      <td>1Q</td>\n",
       "      <td>45,50528</td>\n",
       "      <td>-73,71136</td>\n",
       "      <td>1O</td>\n",
       "      <td>45,50951</td>\n",
       "      <td>-73,6975</td>\n",
       "      <td>Thimens : Poirier à Alexis-Nihon</td>\n",
       "      <td>E</td>\n",
       "      <td>139</td>\n",
       "      <td>137</td>\n",
       "      <td>1627</td>\n",
       "      <td>2019-07-02 18:44:56</td>\n",
       "    </tr>\n",
       "    <tr>\n",
       "      <td>LTh_1O-1Q</td>\n",
       "      <td>361</td>\n",
       "      <td>Alexis-Nihon-Thimens</td>\n",
       "      <td>1</td>\n",
       "      <td>1O</td>\n",
       "      <td>45,50951</td>\n",
       "      <td>-73,6975</td>\n",
       "      <td>1Q</td>\n",
       "      <td>45,50528</td>\n",
       "      <td>-73,71136</td>\n",
       "      <td>Thimens : Alexis-Nihon à Poirier</td>\n",
       "      <td>O</td>\n",
       "      <td>137</td>\n",
       "      <td>139</td>\n",
       "      <td>1564</td>\n",
       "      <td>2019-07-02 18:44:58</td>\n",
       "    </tr>\n",
       "    <tr>\n",
       "      <td>LND_1E-1M</td>\n",
       "      <td>367</td>\n",
       "      <td>Notre-Dame-Letourneux</td>\n",
       "      <td>1</td>\n",
       "      <td>1E</td>\n",
       "      <td>45,55003</td>\n",
       "      <td>-73,53208</td>\n",
       "      <td>1M</td>\n",
       "      <td>45,53643</td>\n",
       "      <td>-73,54156</td>\n",
       "      <td>Notre-Dame : Letourneux à Alphonse-D,-Roy</td>\n",
       "      <td>O</td>\n",
       "      <td>125</td>\n",
       "      <td>134</td>\n",
       "      <td>1683</td>\n",
       "      <td>2019-07-02 18:44:53</td>\n",
       "    </tr>\n",
       "    <tr>\n",
       "      <td>LND_1M-1B</td>\n",
       "      <td>368</td>\n",
       "      <td>Notre-Dame-Alphonse-D,-Roy</td>\n",
       "      <td>1</td>\n",
       "      <td>1M</td>\n",
       "      <td>45,53643</td>\n",
       "      <td>-73,54156</td>\n",
       "      <td>1B</td>\n",
       "      <td>45,52294</td>\n",
       "      <td>-73,54624</td>\n",
       "      <td>Notre-Dame : Alphonse-D,-Roy à Lorimier</td>\n",
       "      <td>O</td>\n",
       "      <td>134</td>\n",
       "      <td>123</td>\n",
       "      <td>1544</td>\n",
       "      <td>2019-07-02 18:45:02</td>\n",
       "    </tr>\n",
       "    <tr>\n",
       "      <td>LND_1E-1B</td>\n",
       "      <td>369</td>\n",
       "      <td>Notre-Dame-Letourneux</td>\n",
       "      <td>1</td>\n",
       "      <td>1E</td>\n",
       "      <td>45,55003</td>\n",
       "      <td>-73,53208</td>\n",
       "      <td>1B</td>\n",
       "      <td>45,52294</td>\n",
       "      <td>-73,54624</td>\n",
       "      <td>Notre-Dame : Letourneux à Lorimier</td>\n",
       "      <td>O</td>\n",
       "      <td>125</td>\n",
       "      <td>123</td>\n",
       "      <td>3232</td>\n",
       "      <td>2019-07-02 18:44:53</td>\n",
       "    </tr>\n",
       "  </tbody>\n",
       "</table>\n",
       "<p>69 rows × 15 columns</p>\n",
       "</div>"
      ],
      "text/plain": [
       "           IdLink                channel_name  active SrcDetectorId  \\\n",
       "LinkID                                                                \n",
       "LHB_15-20       3     Papineau-Henri-Bourassa       1            15   \n",
       "LHB_20-15       4   Henri-Bourassa-Lajeunesse       1            20   \n",
       "LHB_20-21       5   Henri-Bourassa-Lajeunesse       1            20   \n",
       "LHB_21-20       6       Henri-Bourassa-Acadie       1            21   \n",
       "LPa_16-17      11           Papineau-charland       1            16   \n",
       "...           ...                         ...     ...           ...   \n",
       "LTh_1Q-1O     360           Cavendish-Poirier       1            1Q   \n",
       "LTh_1O-1Q     361        Alexis-Nihon-Thimens       1            1O   \n",
       "LND_1E-1M     367       Notre-Dame-Letourneux       1            1E   \n",
       "LND_1M-1B     368  Notre-Dame-Alphonse-D,-Roy       1            1M   \n",
       "LND_1E-1B     369       Notre-Dame-Letourneux       1            1E   \n",
       "\n",
       "                SrcLatitude       SrcLongitude DestDetectorId  \\\n",
       "LinkID                                                          \n",
       "LHB_15-20  45,5702683333333  -73,6588066666667             20   \n",
       "LHB_20-15         45,555365  -73,6683933333333             15   \n",
       "LHB_20-21         45,555365  -73,6683933333333             21   \n",
       "LHB_21-20  45,5349866666667  -73,6807116666667             20   \n",
       "LPa_16-17         45,564785  -73,6449433333333             17   \n",
       "...                     ...                ...            ...   \n",
       "LTh_1Q-1O          45,50528          -73,71136             1O   \n",
       "LTh_1O-1Q          45,50951           -73,6975             1Q   \n",
       "LND_1E-1M          45,55003          -73,53208             1M   \n",
       "LND_1M-1B          45,53643          -73,54156             1B   \n",
       "LND_1E-1B          45,55003          -73,53208             1B   \n",
       "\n",
       "               DestLatitude      DestLongitude  \\\n",
       "LinkID                                           \n",
       "LHB_15-20         45,555365  -73,6683933333333   \n",
       "LHB_20-15  45,5702683333333  -73,6588066666667   \n",
       "LHB_20-21  45,5349866666667  -73,6807116666667   \n",
       "LHB_21-20         45,555365  -73,6683933333333   \n",
       "LPa_16-17  45,5564283333333         -73,626345   \n",
       "...                     ...                ...   \n",
       "LTh_1Q-1O          45,50951           -73,6975   \n",
       "LTh_1O-1Q          45,50528          -73,71136   \n",
       "LND_1E-1M          45,53643          -73,54156   \n",
       "LND_1M-1B          45,52294          -73,54624   \n",
       "LND_1E-1B          45,52294          -73,54624   \n",
       "\n",
       "                                              LinkName RouteDirectionName  \\\n",
       "LinkID                                                                      \n",
       "LHB_15-20         Henri-Bourassa:Papineau a Lajeunesse                  O   \n",
       "LHB_20-15         Henri-Bourassa:Lajeunesse a Papineau                  N   \n",
       "LHB_20-21  Henri_Bourassa:Lajeunesse a Bourassa-Acadie                  O   \n",
       "LHB_21-20  Henri_Bourassa:Acadie a Bourassa-Lajeunesse                  E   \n",
       "LPa_16-17         Papineau:Charland a Barnabe-Larocque                  S   \n",
       "...                                                ...                ...   \n",
       "LTh_1Q-1O             Thimens : Poirier à Alexis-Nihon                  E   \n",
       "LTh_1O-1Q             Thimens : Alexis-Nihon à Poirier                  O   \n",
       "LND_1E-1M    Notre-Dame : Letourneux à Alphonse-D,-Roy                  O   \n",
       "LND_1M-1B      Notre-Dame : Alphonse-D,-Roy à Lorimier                  O   \n",
       "LND_1E-1B           Notre-Dame : Letourneux à Lorimier                  O   \n",
       "\n",
       "           SrcChannelId  DestChannelId  LineDistance_m       last_poll_time  \n",
       "LinkID                                                                       \n",
       "LHB_15-20            16             21            1818  2019-07-02 18:44:57  \n",
       "LHB_20-15            21             16            1818  2019-02-15 13:56:37  \n",
       "LHB_20-21            21             22            2460  2019-02-15 13:56:37  \n",
       "LHB_21-20            22             21            2460  2019-07-02 18:45:02  \n",
       "LPa_16-17            17             18            1707  2019-07-02 18:44:58  \n",
       "...                 ...            ...             ...                  ...  \n",
       "LTh_1Q-1O           139            137            1627  2019-07-02 18:44:56  \n",
       "LTh_1O-1Q           137            139            1564  2019-07-02 18:44:58  \n",
       "LND_1E-1M           125            134            1683  2019-07-02 18:44:53  \n",
       "LND_1M-1B           134            123            1544  2019-07-02 18:45:02  \n",
       "LND_1E-1B           125            123            3232  2019-07-02 18:44:53  \n",
       "\n",
       "[69 rows x 15 columns]"
      ]
     },
     "execution_count": 64,
     "metadata": {},
     "output_type": "execute_result"
    }
   ],
   "source": [
    "seg_routier[seg_routier.LineDistance_m>1500]"
   ]
  },
  {
   "cell_type": "markdown",
   "metadata": {},
   "source": [
    "Les deux segments choisis:"
   ]
  },
  {
   "cell_type": "code",
   "execution_count": 65,
   "metadata": {},
   "outputs": [
    {
     "data": {
      "text/plain": [
       "IdLink                                                   3\n",
       "channel_name                       Papineau-Henri-Bourassa\n",
       "active                                                   1\n",
       "SrcDetectorId                                           15\n",
       "SrcLatitude                               45,5702683333333\n",
       "SrcLongitude                             -73,6588066666667\n",
       "DestDetectorId                                          20\n",
       "DestLatitude                                     45,555365\n",
       "DestLongitude                            -73,6683933333333\n",
       "LinkName              Henri-Bourassa:Papineau a Lajeunesse\n",
       "RouteDirectionName                                       O\n",
       "SrcChannelId                                            16\n",
       "DestChannelId                                           21\n",
       "LineDistance_m                                        1818\n",
       "last_poll_time                         2019-07-02 18:44:57\n",
       "Name: LHB_15-20, dtype: object"
      ]
     },
     "execution_count": 65,
     "metadata": {},
     "output_type": "execute_result"
    }
   ],
   "source": [
    "#A a B: Henri-Bourrassa de Papineau a Lajeunesse\n",
    "seg_routier.iloc[2]"
   ]
  },
  {
   "cell_type": "code",
   "execution_count": 66,
   "metadata": {
    "scrolled": true
   },
   "outputs": [
    {
     "data": {
      "text/plain": [
       "IdLink                                                   4\n",
       "channel_name                     Henri-Bourassa-Lajeunesse\n",
       "active                                                   1\n",
       "SrcDetectorId                                           20\n",
       "SrcLatitude                                      45,555365\n",
       "SrcLongitude                             -73,6683933333333\n",
       "DestDetectorId                                          15\n",
       "DestLatitude                              45,5702683333333\n",
       "DestLongitude                            -73,6588066666667\n",
       "LinkName              Henri-Bourassa:Lajeunesse a Papineau\n",
       "RouteDirectionName                                       N\n",
       "SrcChannelId                                            21\n",
       "DestChannelId                                           16\n",
       "LineDistance_m                                        1818\n",
       "last_poll_time                         2019-02-15 13:56:37\n",
       "Name: LHB_20-15, dtype: object"
      ]
     },
     "execution_count": 66,
     "metadata": {},
     "output_type": "execute_result"
    }
   ],
   "source": [
    "#B a A: Henri-Bourrassa de Lajeunesse a Papineau\n",
    "seg_routier.iloc[3]"
   ]
  },
  {
   "cell_type": "markdown",
   "metadata": {},
   "source": [
    "### 2.2.1 Étude de la distribution des temps de parcours\n",
    "Décrire la distribution des temps de parcours dans une direction, par des statistiques descriptives et des figures. Proposer une méthode pour filtrer les temps de parcours les plus longs si nécessaire. Une fois les données filtrées, faire un test d’adéquation à la loi\n",
    "normale (ou autre loi théorique plus adaptée).\n",
    "\n",
    "Le cas échéant, la méthode de filtrage sera appliquée à toutes les données utilisées par\n",
    "la suite."
   ]
  },
  {
   "cell_type": "code",
   "execution_count": 70,
   "metadata": {},
   "outputs": [
    {
     "data": {
      "text/plain": [
       "count    168840.000000\n",
       "mean        354.534559\n",
       "std         298.893108\n",
       "min          92.000000\n",
       "25%         208.000000\n",
       "50%         254.000000\n",
       "75%         339.000000\n",
       "max        1800.000000\n",
       "Name: TravelTime_s, dtype: float64"
      ]
     },
     "execution_count": 70,
     "metadata": {},
     "output_type": "execute_result"
    }
   ],
   "source": [
    "# de A a B\n",
    "trips16.loc['LHB_15-20']['TravelTime_s'].describe()"
   ]
  },
  {
   "cell_type": "code",
   "execution_count": 83,
   "metadata": {},
   "outputs": [
    {
     "data": {
      "image/png": "[encoded data removed]",
      "text/plain": [
       "<Figure size 432x288 with 1 Axes>"
      ]
     },
     "metadata": {
      "needs_background": "light"
     },
     "output_type": "display_data"
    }
   ],
   "source": [
    "a = trips16.loc['LHB_20-15']['TravelTime_s'].to_numpy()\n",
    "\n",
    "fig,ax = plt.subplots(1,1)\n",
    "ax.hist(a)\n",
    "ax.set_title(\"Histogramme du temps de parcours de LHB_20-15\")\n",
    "ax.set_xlabel('Temps (s)')\n",
    "ax.set_ylabel('Nombre de parcours')\n",
    "plt.show()"
   ]
  },
  {
   "cell_type": "code",
   "execution_count": 90,
   "metadata": {},
   "outputs": [
    {
     "data": {
      "image/png": "[encoded data removed]",
      "text/plain": [
       "<Figure size 432x288 with 1 Axes>"
      ]
     },
     "metadata": {
      "needs_background": "light"
     },
     "output_type": "display_data"
    }
   ],
   "source": [
    "fig = plt.figure()\n",
    "ax = fig.add_axes([0,0,1,1])\n",
    "bp = ax.violinplot(a)\n",
    "plt.show()"
   ]
  },
  {
   "cell_type": "code",
   "execution_count": 105,
   "metadata": {},
   "outputs": [
    {
     "data": {
      "text/plain": [
       "array([212, 239, 290, ..., 205, 245, 293], dtype=int64)"
      ]
     },
     "execution_count": 105,
     "metadata": {},
     "output_type": "execute_result"
    }
   ],
   "source": [
    "temps_filtres = a[a<500]\n",
    "temps_filtres"
   ]
  },
  {
   "cell_type": "code",
   "execution_count": 111,
   "metadata": {},
   "outputs": [
    {
     "data": {
      "image/png": "[encoded data removed]",
      "text/plain": [
       "<Figure size 432x288 with 1 Axes>"
      ]
     },
     "metadata": {
      "needs_background": "light"
     },
     "output_type": "display_data"
    },
    {
     "data": {
      "image/png": "[encoded data removed]",
      "text/plain": [
       "<Figure size 432x288 with 1 Axes>"
      ]
     },
     "metadata": {
      "needs_background": "light"
     },
     "output_type": "display_data"
    }
   ],
   "source": [
    "fig = plt.figure()\n",
    "ax = fig.add_axes([0,0,1,1])\n",
    "bp = ax.violinplot(temps_filtres)\n",
    "fig,ax = plt.subplots(1,1)\n",
    "\n",
    "ax.hist(temps_filtres)\n",
    "ax.set_title(\"Histogramme du temps de parcours de LHB_20-15\")\n",
    "ax.set_xlabel('Temps (s)')\n",
    "ax.set_ylabel('Nombre de parcours')\n",
    "plt.show()"
   ]
  },
  {
   "cell_type": "markdown",
   "metadata": {},
   "source": [
    "### 2.2.2 Analyse des détections et temps de parcours en fonction du temps\n",
    "En choisissant une direction de déplacement, décrire la répartition temporelle des nombres d’observation et des temps de parcours, selon les mois, jours de la semaine et heures de la journée. Justifier la statistique utilisée pour représenter les temps de parcours. Faire au moins six graphiques présentant les informations suivantes et\n",
    "commenter :\n",
    "1. Nombre d’observations et temps de parcours en fonction des mois ;\n",
    "2. Nombre d’observations et temps de parcours par jour de la semaine ;\n",
    "3. Nombre d’observations et temps de parcours par type de jour (semaine/fin de semaine) et heure de la journée.\n",
    "\n",
    "Étudier la corrélation des temps de parcours pour les deux directions à l’échelle de l’heure (inclure une figure)."
   ]
  },
  {
   "cell_type": "code",
   "execution_count": 113,
   "metadata": {},
   "outputs": [
    {
     "data": {
      "text/plain": [
       "LinkId\n",
       "LHB_20-15    2016-01-25 15:45:28\n",
       "LHB_20-15    2016-01-25 15:46:01\n",
       "LHB_20-15    2016-01-25 15:45:25\n",
       "LHB_20-15    2016-01-25 15:46:00\n",
       "LHB_20-15    2016-01-25 16:03:19\n",
       "                    ...         \n",
       "LHB_20-15    2016-01-25 20:15:29\n",
       "LHB_20-15    2016-01-25 20:05:41\n",
       "LHB_20-15    2016-01-25 20:16:48\n",
       "LHB_20-15    2016-01-25 20:19:04\n",
       "LHB_20-15    2016-01-25 20:23:36\n",
       "Name: TripStart_dt, Length: 154958, dtype: object"
      ]
     },
     "execution_count": 113,
     "metadata": {},
     "output_type": "execute_result"
    }
   ],
   "source": [
    "trips16.loc['LHB_20-15']['TripStart_dt']"
   ]
  },
  {
   "cell_type": "markdown",
   "metadata": {},
   "source": [
    "## 2.3 Segmentation des patrons journaliers des temps de parcours\n",
    "Choisir un segment routier et faire une segmentation des patrons journaliers des temps de parcours en créant des vecteurs des temps de parcours moyen pour chaque heure de chaque journée (chaque jour est représenté par un vecteur de taille 24). Choisir le nombre de groupes par essai-erreur et présenter les caractéristiques, en particulier temporelles, de chaque groupe trouvé avec les justifications appropriées (en particulier des graphiques). Décrire brièvement les traitements appliqués aux données, en particulier les conversions d’attributs."
   ]
  },
  {
   "cell_type": "markdown",
   "metadata": {},
   "source": [
    "## 2.4 Étude des facteurs associés aux conditions de déplacement\n",
    "Choisir cinq segments routiers dans des quartiers différents de Montréal et créer une variable binaire décrivant les conditions de déplacement à chaque heure de chaque journée, par exemple à l’aide de la limite de vitesse de chaque segment. Enrichir les données horaires des conditions météorologiques (voir fichiers sur moodle) et de\n",
    "caractéristiques pertinentes des segments routiers comme le nombre de voies, son orientation (points cardinaux), le nombre de carrefours, la distance au centre-ville, etc.\n",
    "\n",
    "Étudier les facteurs temporels, météorologiques et les caractéristiques des segments associés aux conditions de déplacement sur l’ensemble des segments choisis à l’aide d’un arbre de décision."
   ]
  },
  {
   "cell_type": "markdown",
   "metadata": {},
   "source": [
    "2.4 (fais un modèle de régression linéaire entre la vitesse normalisée par la limite de vitesse et des attributs des déplacements (mois, heure de la journée) et du segment (point cardinal du fichier seg_routier?))"
   ]
  },
  {
   "cell_type": "code",
   "execution_count": null,
   "metadata": {},
   "outputs": [],
   "source": []
  }
 ],
 "metadata": {
  "kernelspec": {
   "display_name": "Python (ox)",
   "language": "python",
   "name": "ox"
  },
  "language_info": {
   "codemirror_mode": {
    "name": "ipython",
    "version": 3
   },
   "file_extension": ".py",
   "mimetype": "text/x-python",
   "name": "python",
   "nbconvert_exporter": "python",
   "pygments_lexer": "ipython3",
   "version": "3.7.4"
  }
 },
 "nbformat": 4,
 "nbformat_minor": 2
}
